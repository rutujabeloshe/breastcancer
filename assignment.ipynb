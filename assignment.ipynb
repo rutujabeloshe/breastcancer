{
 "cells": [
  {
   "cell_type": "code",
   "execution_count": 10,
   "id": "3c8a9a61",
   "metadata": {},
   "outputs": [
    {
     "name": "stdout",
     "output_type": "stream",
     "text": [
      "Hello from Fun\n"
     ]
    }
   ],
   "source": [
    "def Fun():\n",
    "    print(\"Hello from Fun\")\n",
    "\n",
    "# Call the Fun() function\n",
    "Fun()\n"
   ]
  },
  {
   "cell_type": "code",
   "execution_count": 1,
   "id": "3abc0f0e",
   "metadata": {},
   "outputs": [
    {
     "name": "stdout",
     "output_type": "stream",
     "text": [
      "Enter a number: 2\n",
      "Even number\n"
     ]
    }
   ],
   "source": [
    "def ChkNum(number):\n",
    "    if number % 2 == 0:\n",
    "        print(\"Even number\")\n",
    "    else:\n",
    "        print(\"Odd number\")\n",
    "\n",
    "# Test the function\n",
    "num = int(input(\"Enter a number: \"))\n",
    "ChkNum(num)"
   ]
  },
  {
   "cell_type": "code",
   "execution_count": 2,
   "id": "d719d69a",
   "metadata": {},
   "outputs": [
    {
     "name": "stdout",
     "output_type": "stream",
     "text": [
      "Enter a number: 3\n",
      "Odd number\n"
     ]
    }
   ],
   "source": [
    "def ChkNum(number):\n",
    "    if number % 2 == 0:\n",
    "        print(\"Even number\")\n",
    "    else:\n",
    "        print(\"Odd number\")\n",
    "\n",
    "# Test the function\n",
    "num = int(input(\"Enter a number: \"))\n",
    "ChkNum(num)"
   ]
  },
  {
   "cell_type": "code",
   "execution_count": 3,
   "id": "ab984ecb",
   "metadata": {},
   "outputs": [
    {
     "name": "stdout",
     "output_type": "stream",
     "text": [
      "Enter the first number: 89\n",
      "Enter the second number: 103\n",
      "The sum is: 192.0\n"
     ]
    }
   ],
   "source": [
    "def add():\n",
    "    num1 = float(input(\"Enter the first number: \"))\n",
    "    num2 = float(input(\"Enter the second number: \"))\n",
    "    sum = num1 + num2\n",
    "    return sum\n",
    "\n",
    "result = add()\n",
    "print(\"The sum is:\", result)\n"
   ]
  },
  {
   "cell_type": "code",
   "execution_count": 4,
   "id": "cb27002b",
   "metadata": {},
   "outputs": [
    {
     "name": "stdout",
     "output_type": "stream",
     "text": [
      "Marvelous\n",
      "Marvelous\n",
      "Marvelous\n",
      "Marvelous\n",
      "Marvelous\n"
     ]
    }
   ],
   "source": [
    "def display_marvelous():\n",
    "    for _ in range(5):\n",
    "        print(\"Marvelous\")\n",
    "\n",
    "display_marvelous()\n"
   ]
  },
  {
   "cell_type": "code",
   "execution_count": 5,
   "id": "7f0ac10e",
   "metadata": {},
   "outputs": [
    {
     "name": "stdout",
     "output_type": "stream",
     "text": [
      "10\n",
      "9\n",
      "8\n",
      "7\n",
      "6\n",
      "5\n",
      "4\n",
      "3\n",
      "2\n",
      "1\n"
     ]
    }
   ],
   "source": [
    "def display_numbers():\n",
    "    for num in range(10, 0, -1):\n",
    "        print(num)\n",
    "\n",
    "display_numbers()\n"
   ]
  },
  {
   "cell_type": "code",
   "execution_count": 6,
   "id": "95ab8c84",
   "metadata": {},
   "outputs": [
    {
     "name": "stdout",
     "output_type": "stream",
     "text": [
      "Enter a number: 524\n",
      "The number is positive.\n"
     ]
    }
   ],
   "source": [
    "def check_number():\n",
    "    num = float(input(\"Enter a number: \"))\n",
    "\n",
    "    if num > 0:\n",
    "        print(\"The number is positive.\")\n",
    "    elif num < 0:\n",
    "        print(\"The number is negative.\")\n",
    "    else:\n",
    "        print(\"The number is zero.\")\n",
    "\n",
    "check_number()\n"
   ]
  },
  {
   "cell_type": "code",
   "execution_count": 7,
   "id": "5dd00c46",
   "metadata": {},
   "outputs": [
    {
     "name": "stdout",
     "output_type": "stream",
     "text": [
      "Enter a number: -484\n",
      "The number is negative.\n"
     ]
    }
   ],
   "source": [
    "def check_number():\n",
    "    num = float(input(\"Enter a number: \"))\n",
    "\n",
    "    if num > 0:\n",
    "        print(\"The number is positive.\")\n",
    "    elif num < 0:\n",
    "        print(\"The number is negative.\")\n",
    "    else:\n",
    "        print(\"The number is zero.\")\n",
    "\n",
    "check_number()\n"
   ]
  },
  {
   "cell_type": "code",
   "execution_count": 8,
   "id": "817336bf",
   "metadata": {},
   "outputs": [
    {
     "name": "stdout",
     "output_type": "stream",
     "text": [
      "Enter a number: 76\n",
      "False\n"
     ]
    }
   ],
   "source": [
    "def check_divisibility(number):\n",
    "    if number % 5 == 0:\n",
    "        return True\n",
    "    else:\n",
    "        return False\n",
    "\n",
    "# Taking input from the user\n",
    "num = int(input(\"Enter a number: \"))\n",
    "\n",
    "# Calling the function and printing the result\n",
    "result = check_divisibility(num)\n",
    "print(result)\n"
   ]
  },
  {
   "cell_type": "code",
   "execution_count": 10,
   "id": "e830b42f",
   "metadata": {},
   "outputs": [
    {
     "name": "stdout",
     "output_type": "stream",
     "text": [
      "Enter a number: -45\n",
      "True\n"
     ]
    }
   ],
   "source": [
    "def check_divisibility(number):\n",
    "    if number % 5 == 0:\n",
    "        return True\n",
    "    else:\n",
    "        return False\n",
    "\n",
    "# Taking input from the user\n",
    "num = int(input(\"Enter a number: \"))\n",
    "\n",
    "# Calling the function and printing the result\n",
    "result = check_divisibility(num)\n",
    "print(result)\n"
   ]
  },
  {
   "cell_type": "code",
   "execution_count": 12,
   "id": "af0de794",
   "metadata": {},
   "outputs": [
    {
     "name": "stdout",
     "output_type": "stream",
     "text": [
      "Enter a number: 25\n",
      "*\n",
      "*\n",
      "*\n",
      "*\n",
      "*\n",
      "*\n",
      "*\n",
      "*\n",
      "*\n",
      "*\n",
      "*\n",
      "*\n",
      "*\n",
      "*\n",
      "*\n",
      "*\n",
      "*\n",
      "*\n",
      "*\n",
      "*\n",
      "*\n",
      "*\n",
      "*\n",
      "*\n",
      "*\n"
     ]
    }
   ],
   "source": [
    "def print_asterisks(number):\n",
    "    for _ in range(number):\n",
    "        print(\"*\")\n",
    "\n",
    "# Taking input from the user\n",
    "num = int(input(\"Enter a number: \"))\n",
    "\n",
    "# Calling the function to print asterisks\n",
    "print_asterisks(num)\n"
   ]
  },
  {
   "cell_type": "code",
   "execution_count": 15,
   "id": "7b384260",
   "metadata": {},
   "outputs": [
    {
     "name": "stdout",
     "output_type": "stream",
     "text": [
      "0\n",
      "2\n",
      "4\n",
      "6\n",
      "8\n",
      "10\n",
      "12\n",
      "14\n",
      "16\n",
      "18\n"
     ]
    }
   ],
   "source": [
    "def display_even_numbers():\n",
    "    count = 0\n",
    "    num = 0\n",
    "\n",
    "    while count < 10:\n",
    "        if num % 2 == 0:\n",
    "            print(num)\n",
    "            count += 1\n",
    "        num += 1\n",
    "\n",
    "display_even_numbers()\n"
   ]
  },
  {
   "cell_type": "code",
   "execution_count": 16,
   "id": "97d51f1b",
   "metadata": {},
   "outputs": [
    {
     "name": "stdout",
     "output_type": "stream",
     "text": [
      "Enter your name: gourav\n",
      "The length of your name is: 6\n"
     ]
    }
   ],
   "source": [
    "def display_name_length():\n",
    "    name = input(\"Enter your name: \")\n",
    "    length = len(name)\n",
    "    print(\"The length of your name is:\", length)\n",
    "\n",
    "display_name_length()\n"
   ]
  },
  {
   "cell_type": "code",
   "execution_count": null,
   "id": "3a509583",
   "metadata": {},
   "outputs": [],
   "source": []
  }
 ],
 "metadata": {
  "kernelspec": {
   "display_name": "Python 3 (ipykernel)",
   "language": "python",
   "name": "python3"
  },
  "language_info": {
   "codemirror_mode": {
    "name": "ipython",
    "version": 3
   },
   "file_extension": ".py",
   "mimetype": "text/x-python",
   "name": "python",
   "nbconvert_exporter": "python",
   "pygments_lexer": "ipython3",
   "version": "3.10.9"
  }
 },
 "nbformat": 4,
 "nbformat_minor": 5
}
